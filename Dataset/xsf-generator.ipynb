{
 "cells": [
  {
   "cell_type": "code",
   "execution_count": null,
   "metadata": {},
   "outputs": [],
   "source": [
    "import os\n",
    "import ase\n",
    "from ase import io\n",
    "import numpy as np\n",
    "import pandas as pd\n",
    "import matplotlib.pyplot as plt\n",
    "from ase import Atoms\n",
    "from ase.calculators.espresso import Espresso\n",
    "import MDAnalysis as mda\n",
    "from ase.units import eV, Angstrom, Rydberg, Bohr\n",
    "from ase.data import atomic_numbers\n",
    "#from ase.calculators.singlepoint import SinglePointCalculator"
   ]
  },
  {
   "cell_type": "code",
   "execution_count": null,
   "metadata": {},
   "outputs": [],
   "source": [
    "x= int(input(\"Insert total number of configuration in the xyz file = \"))"
   ]
  },
  {
   "cell_type": "code",
   "execution_count": null,
   "metadata": {},
   "outputs": [],
   "source": [
    "y=str(input(\"insert your file name without extension =\"))"
   ]
  },
  {
   "cell_type": "code",
   "execution_count": null,
   "metadata": {},
   "outputs": [],
   "source": [
    "for j in range(x):\n",
    "    k=j+6001\n",
    "    i=k+8000\n",
    "    inputfile = str(y+'_'+str(k)+'.out')\n",
    "    outputfile =str('NiP_dataset_'+str(i)+'.xsf')\n",
    "    atoms = io.read(r\"C:\\Users\\shari\\Desktop\\research\\BSU\\projects\\nip\\surface\\qe_output\\bulk\\ni5p_output\\\\\"+inputfile, index=0, format='espresso-out')\n",
    "    io.write(outputfile, atoms)\n",
    "    ener = atoms.get_total_energy()\n",
    "    energy = str(ener)\n",
    "    s=atoms.get_chemical_symbols()\n",
    "    p=atoms.get_positions()#*ase.units.Angstrom\n",
    "    f=atoms.get_forces()#*ase.units.Ry\n",
    "    dp = pd.DataFrame(p,columns=['x','y','z'])\n",
    "    px = dp['x']\n",
    "    py = dp['y']\n",
    "    pz = dp['z']\n",
    "    ds = pd.DataFrame(s,columns=['elements'])\n",
    "    df =pd.DataFrame(f,columns=['fx','fy','fz'])\n",
    "    fx = df['fx']\n",
    "    fy = df['fy']\n",
    "    fz = df['fz']\n",
    "    ds.insert(1,'x',px)\n",
    "    ds.insert(2,'y',py)\n",
    "    ds.insert(3,'z',pz)\n",
    "    ds.insert(4,'fx',fx)\n",
    "    ds.insert(5,'fy',fy)\n",
    "    ds.insert(6,'fz',fz)\n",
    "    ds.to_csv('NiP_dataset_'+str(i)+'.xsf', sep=' ',index=False) #saving data frame\n",
    "    with open ('NiP_dataset_'+str(i)+'.xsf', \"r+\") as f:\n",
    "         lines=f.readlines()\n",
    "         del lines[0]\n",
    "    with open ('NiP_dataset_'+str(i)+'.xsf',\"w\") as f:\n",
    "         f.writelines(lines)\n",
    "\n",
    "    with open('NiP_dataset_'+str(i)+'.xsf', 'r+') as file:\n",
    "       exist =file.read()\n",
    "    with open(r\"C:\\Users\\shari\\Desktop\\research\\BSU\\projects\\nip\\surface\\qe_inputs\\bulk\\ni5p\\qe_bulk\\\\\"+y+'_'+str(k)+'.in','r+') as pbc:\n",
    "        lines= pbc.readlines()\n",
    "        x1=lines[39]\n",
    "        y1=lines[40]\n",
    "        z1=lines[41]\n",
    "    #with open (y+'_'+str(i)+'.xsf',\"r+\") as f:\n",
    "    #     f.writelines(lines)  #follow the generate files procedurs, create two different files and then join them\n",
    "        setup = ['# total energy = '+str(energy)+' ev\\n'\n",
    "            'CRYSTAL',\n",
    "             'PRIMVEC',\n",
    "              x1,\n",
    "              y1,\n",
    "              z1,\n",
    "             'PRIMCOORD',\n",
    "             ' 96 1']\n",
    "    xsf ='\\n'.join(setup)+'\\n'+exist\n",
    "    \n",
    "    with open ('NiP_dataset_'+str(i)+'.xsf',\"w+\") as f:\n",
    "         f.writelines(xsf)\n",
    "    with open('NiP_dataset_'+str(i)+'.xsf','r+') as f:\n",
    "         lin=f.readlines()\n",
    "         del lin[4]\n",
    "         del lin[5]\n",
    "         del lin[6]\n",
    "    with open('NiP_datase_'+str(i)+'.xsf','w') as f:\n",
    "         f.writelines(lin)"
   ]
  },
  {
   "cell_type": "code",
   "execution_count": null,
   "metadata": {},
   "outputs": [],
   "source": [
    "for i in range(x):\n",
    "    atoms = io.read(y+'_'+str(i)+'.out', format='espresso-out')\n",
    "    ener = atoms.get_total_energy()\n",
    "    energy = str(ener)\n",
    "    symble = atoms.get_chemical_symbols()\n",
    "    io.write(y+'_'+str(i)+'.xsf', atoms)\n",
    "    with open (y+'_'+str(i)+'.xsf', \"r+\") as f: #open xsf file to read line by line \n",
    "        lines=f.readlines()\n",
    "    with open (y+'_'+str(i)+'.xsf','w') as f:\n",
    "        f.writelines(lines[7:103]) #open xsf file with same name to write only the symble coordination and force portion to edit the symble column   \n",
    "    data = pd.read_csv(y+'_'+str(i)+'.xsf',delim_whitespace='true',names=['symble','x', 'y', 'z', 'fx', 'fy', 'fz'])\n",
    "    \n",
    "    data.insert(0, 'elements',symble) #insert the column with elements symbles\n",
    "    data.drop('symble', axis=1, inplace=True) #deleted the deafult symble column created with only numbers\n",
    "    \n",
    "    data.to_csv(y+'_'+str(i)+'.xsf', sep=' ',index=False) #saving data frame\n",
    "    with open (y+'_'+str(i)+'.xsf', \"r+\") as f:\n",
    "         lines=f.readlines()\n",
    "         del lines[0]\n",
    "    with open (y+'_'+str(i)+'.xsf',\"w\") as f:\n",
    "         f.writelines(lines)\n",
    "\n",
    "    with open(y+'_'+str(i)+'.xsf', 'r+') as file:\n",
    "       exist =file.read()\n",
    "    #with open (y+'_'+str(i)+'.xsf',\"r+\") as f:\n",
    "    #     f.writelines(lines)  #follow the generate files procedurs, create two different files and then join them\n",
    "    setup = ['# total energy = '+str(energy)+' ev\\n'\n",
    "            'CRYSTAL\\n',\n",
    "             'PRIMVEC\\n',\n",
    "             ' 9.53763493994980 0.00000000000000 0.00000000000000\\n',\n",
    "             ' 0.00000000000000 9.31206987361999 0.00000000000000\\n',\n",
    "             ' 0.00000000000000 0.00000000000000 13.60318535999256\\n',\n",
    "             'PRIMCOORD\\n',\n",
    "             ' 96 1\\n']\n",
    "    xsf ='\\n'.join(setup)+'\\n'+exist\n",
    "    \n",
    "    with open (y+'_'+str(i)+'.xsf',\"w\") as f:\n",
    "         f.writelines(xsf)\n",
    "    f=atoms.get_forces()\n",
    "    print(f)"
   ]
  },
  {
   "cell_type": "code",
   "execution_count": null,
   "metadata": {},
   "outputs": [],
   "source": [
    "file=str(input(\"insert your file name without extension =\"))"
   ]
  },
  {
   "cell_type": "code",
   "execution_count": null,
   "metadata": {},
   "outputs": [],
   "source": [
    "for i in range(x):\n",
    "    i=i+1\n",
    "    path='/bsuhome/mdsharifkhan/scratch/khan/nip/pytorch_training/new-corr/xsf/xsf-nip/'+file+'_'+str(i)+'.xsf\\n'\n",
    "    with open('generate.in', 'a') as f:\n",
    "        f.write(path)\n",
    "        f.close()\n",
    "        print(path)"
   ]
  }
 ],
 "metadata": {
  "kernelspec": {
   "display_name": "base",
   "language": "python",
   "name": "python3"
  },
  "language_info": {
   "codemirror_mode": {
    "name": "ipython",
    "version": 3
   },
   "file_extension": ".py",
   "mimetype": "text/x-python",
   "name": "python",
   "nbconvert_exporter": "python",
   "pygments_lexer": "ipython3"
  }
 },
 "nbformat": 4,
 "nbformat_minor": 2
}
